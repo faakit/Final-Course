{
 "cells": [
  {
   "cell_type": "markdown",
   "metadata": {},
   "source": [
    "# Capstone Project - The Battle of the Neighborhoods (Week 2)\n",
    "### Applied Data Science Capstone by IBM/Coursera"
   ]
  },
  {
   "cell_type": "markdown",
   "metadata": {},
   "source": [
    "## Introduction: Business Problem <a name=\"introduction\"></a>"
   ]
  },
  {
   "cell_type": "markdown",
   "metadata": {},
   "source": [
    "My business problem is to create a Supplements store in Atlanta, GA, USA. \n",
    "The market is growing for health products and it can be very interesting for those who want a better quality of life. Also it is important for those who are into training and exercising to have a better performance, and this is why it should be nearby GYMs but without so much competition, and here comes the data scientist, choosing the best place for this store."
   ]
  },
  {
   "cell_type": "markdown",
   "metadata": {},
   "source": [
    "## Data <a name=\"data\"></a>"
   ]
  },
  {
   "cell_type": "markdown",
   "metadata": {},
   "source": [
    "The data needed will be: \n",
    "1. Venues location and rating (gyms and supplements stores) from Foursquare API.\n",
    "2. Demographic statistics from Wikipedia. \n",
    "\n",
    "This way we can feed a KMeans algorithm to see the differences between neighborhoods, and rank them searching for the place with the best gyms and more dense population. Then finding the optimal coordinates to a new supplement store."
   ]
  },
  {
   "cell_type": "code",
   "execution_count": null,
   "metadata": {},
   "outputs": [],
   "source": []
  }
 ],
 "metadata": {
  "kernelspec": {
   "display_name": "Python 3",
   "language": "python",
   "name": "python3"
  },
  "language_info": {
   "codemirror_mode": {
    "name": "ipython",
    "version": 3
   },
   "file_extension": ".py",
   "mimetype": "text/x-python",
   "name": "python",
   "nbconvert_exporter": "python",
   "pygments_lexer": "ipython3",
   "version": "3.7.6"
  }
 },
 "nbformat": 4,
 "nbformat_minor": 4
}
